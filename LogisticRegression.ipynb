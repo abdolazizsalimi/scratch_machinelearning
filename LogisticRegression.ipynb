{
 "cells": [
  {
   "cell_type": "code",
   "execution_count": 1,
   "metadata": {},
   "outputs": [],
   "source": [
    "import numpy as np"
   ]
  },
  {
   "cell_type": "code",
   "execution_count": 3,
   "metadata": {},
   "outputs": [],
   "source": [
    "def sigmoid(x):\n",
    "    return 1/(1+np.exp(-x))"
   ]
  },
  {
   "cell_type": "code",
   "execution_count": 5,
   "metadata": {},
   "outputs": [],
   "source": [
    "\n",
    "\n",
    "\n",
    "class LogisticRegression():\n",
    "    def __init__(self , learning_rate = 0.001 , n_iters = 1000):\n",
    "        self.lr = learning_rate \n",
    "        self.n_iters = n_iters\n",
    "        self.weight = None\n",
    "        self.bias = None \n",
    "\n",
    "    def fit(self ,X, y):\n",
    "        n_samples , n_featuers = X.shape\n",
    "        self.weight = np.zeros(n_featuers)\n",
    "        self.bias = 0 \n",
    "\n",
    "        for _ in range(self.n_iters):\n",
    "            liner_prediction = np.dot(X,self.weight)+self.bias\n",
    "            predictions = sigmoid(liner_prediction)\n",
    "\n",
    "            dw = (1/n_samples) * np.dot(X.T , (predictions-y))\n",
    "            db = (1/n_samples) * np.sum(predictions-y)\n",
    "            self.weight = self.weight - self.lr * dw  \n",
    "            self.bias = self.bias = self.lr * db \n",
    "\n",
    "\n",
    "    \n",
    "    def predict(self , X ):\n",
    "        liner_prediction = np.dot(X,self.weight)+self.bias\n",
    "        y_pred = sigmoid(liner_prediction)\n",
    "        class_predictions = [0 if y<=.5 else 1 for  y in y_pred]\n",
    "        return class_predictions\n"
   ]
  },
  {
   "cell_type": "code",
   "execution_count": null,
   "metadata": {},
   "outputs": [],
   "source": []
  }
 ],
 "metadata": {
  "interpreter": {
   "hash": "7544bc9d131172a5c71a5af72a40e709dd9bea1459c762e131152965d6c3c699"
  },
  "kernelspec": {
   "display_name": "Python 3.8.6 64-bit",
   "language": "python",
   "name": "python3"
  },
  "language_info": {
   "codemirror_mode": {
    "name": "ipython",
    "version": 3
   },
   "file_extension": ".py",
   "mimetype": "text/x-python",
   "name": "python",
   "nbconvert_exporter": "python",
   "pygments_lexer": "ipython3",
   "version": "3.8.6"
  },
  "orig_nbformat": 4
 },
 "nbformat": 4,
 "nbformat_minor": 2
}
